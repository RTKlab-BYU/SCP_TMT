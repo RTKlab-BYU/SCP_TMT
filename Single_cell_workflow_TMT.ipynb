{
 "cells": [
  {
   "cell_type": "code",
   "execution_count": 22,
   "id": "c9b4cd45",
   "metadata": {},
   "outputs": [],
   "source": [
    "import pandas as pd\n",
    "\n",
    "# import scipy\n",
    "# from scipy.stats import t\n",
    "# import seaborn as sns\n",
    "# from datetime import datetime, timedelta\n",
    "# import plotly.express as px\n",
    "# from pathlib import Path\n",
    "# import statsmodels.api as sm\n",
    "# from sklearn.preprocessing import StandardScaler\n",
    "# from statsmodels.stats.multitest import multipletests\n",
    "# from scipy.stats import f_oneway as anova\n",
    "# from statsmodels.formula.api import ols \n",
    "  \n",
    "# import math\n",
    "# from select import select\n",
    "\n",
    "#kernal must be restarted if these module change \n",
    "from SCP_plotter import SCP_plotter\n",
    "plotter = SCP_plotter(write_output = True)\n",
    "from SCP_processor import SCP_processor\n",
    "processor = SCP_processor()"
   ]
  },
  {
   "cell_type": "code",
   "execution_count": 23,
   "id": "62a44dde",
   "metadata": {},
   "outputs": [],
   "source": [
    "#Method put files in, one dictionary for each analysis, if there is only one file or you are looking in all files, then you don't need @'s in your SETTINGS_FILE\n",
    "WRITE_OUTPUT = True\n",
    "USE_MaxLFQ = False\n",
    "filelist = [\n",
    "             {\"input1\":\"proteinGroups 2.txt\",\n",
    "             \"input2\":\"peptides 2.txt\",\n",
    "             \"input3\":\"report.pg_matrix.tsv\",\n",
    "             \"input4\":\"report.pr_matrix.tsv\",\n",
    "             \"input5\":\"summary 2.txt\",\n",
    "             \"process_app\": \"MQ\"},\n",
    "          \n",
    "            ]\n",
    "\n",
    "            #Order of files\n",
    "                #For FragPipe\n",
    "                    #input1= Protein with MBR\n",
    "                    #input2= Peptide with MBR\n",
    "                #For DIANN\n",
    "                    #input1= pg_matrix\n",
    "                    #input2= pr_matrix \n",
    "                    #input3= pg_matrix MS2\n",
    "                    #input4= pr_matrix MS2\n",
    "                #For PD\n",
    "                    #input1= Protein \n",
    "                    #input2= Peptide Groups\n",
    "                    #input3= blank\n",
    "                    #input4= blank\n",
    "                    #input5= inpit_files\n",
    "\n",
    "\n",
    "SETTINGS_FILE = \"settings_test_TMT.txt\" #tab delimited\n",
    "    #Format\n",
    "    #Required Columns\n",
    "        #Group Name\t\n",
    "        #filter_in: a string pattern contained in desired raw filenames in analysis followed by an @ + the file number (filelist index) to look in\n",
    "        #filter_out: a string pattern contained in undesired raw filenames\n",
    "    #Extra columns\n",
    "        #can be used to group by color, layer, or x position in CV and ID graphs"
   ]
  },
  {
   "cell_type": "code",
   "execution_count": 24,
   "id": "b540d36f",
   "metadata": {},
   "outputs": [
    {
     "name": "stdout",
     "output_type": "stream",
     "text": [
      "{'Gene names': 'Symbol', 'Reporter intensity 1 id_22ng_15K_25HCD_16_isolation_window_06_18_24_rep1': '0-0', 'Reporter intensity 2 id_22ng_15K_25HCD_16_isolation_window_06_18_24_rep1': '0-0', 'Reporter intensity 3 id_22ng_15K_25HCD_16_isolation_window_06_18_24_rep1': '0-0', 'Reporter intensity 4 id_22ng_15K_25HCD_16_isolation_window_06_18_24_rep1': '0-0', 'Reporter intensity 5 id_22ng_15K_25HCD_16_isolation_window_06_18_24_rep1': '0-0', 'Reporter intensity 6 id_22ng_15K_25HCD_16_isolation_window_06_18_24_rep1': '0-0', 'Reporter intensity 7 id_22ng_15K_25HCD_16_isolation_window_06_18_24_rep1': '0-0', 'Reporter intensity 8 id_22ng_15K_25HCD_16_isolation_window_06_18_24_rep1': '0-0', 'Reporter intensity 9 id_22ng_15K_25HCD_16_isolation_window_06_18_24_rep1': '0-0', 'Reporter intensity 10 id_22ng_15K_25HCD_16_isolation_window_06_18_24_rep1': '0-0', 'Reporter intensity 11 id_22ng_15K_25HCD_16_isolation_window_06_18_24_rep1': '0-0', 'Reporter intensity 1 id_22ng_15K_25HCD_16_isolation_window_06_18_24_rep2': '0-1', 'Reporter intensity 2 id_22ng_15K_25HCD_16_isolation_window_06_18_24_rep2': '0-1', 'Reporter intensity 3 id_22ng_15K_25HCD_16_isolation_window_06_18_24_rep2': '0-1', 'Reporter intensity 4 id_22ng_15K_25HCD_16_isolation_window_06_18_24_rep2': '0-1', 'Reporter intensity 5 id_22ng_15K_25HCD_16_isolation_window_06_18_24_rep2': '0-1', 'Reporter intensity 6 id_22ng_15K_25HCD_16_isolation_window_06_18_24_rep2': '0-1', 'Reporter intensity 7 id_22ng_15K_25HCD_16_isolation_window_06_18_24_rep2': '0-1', 'Reporter intensity 8 id_22ng_15K_25HCD_16_isolation_window_06_18_24_rep2': '0-1', 'Reporter intensity 9 id_22ng_15K_25HCD_16_isolation_window_06_18_24_rep2': '0-1', 'Reporter intensity 10 id_22ng_15K_25HCD_16_isolation_window_06_18_24_rep2': '0-1', 'Reporter intensity 11 id_22ng_15K_25HCD_16_isolation_window_06_18_24_rep2': '0-1', 'Reporter intensity 1 id_22ng_15K_25HCD_16_isolation_window_06_18_24_rep3': '0-2', 'Reporter intensity 2 id_22ng_15K_25HCD_16_isolation_window_06_18_24_rep3': '0-2', 'Reporter intensity 3 id_22ng_15K_25HCD_16_isolation_window_06_18_24_rep3': '0-2', 'Reporter intensity 4 id_22ng_15K_25HCD_16_isolation_window_06_18_24_rep3': '0-2', 'Reporter intensity 5 id_22ng_15K_25HCD_16_isolation_window_06_18_24_rep3': '0-2', 'Reporter intensity 6 id_22ng_15K_25HCD_16_isolation_window_06_18_24_rep3': '0-2', 'Reporter intensity 7 id_22ng_15K_25HCD_16_isolation_window_06_18_24_rep3': '0-2', 'Reporter intensity 8 id_22ng_15K_25HCD_16_isolation_window_06_18_24_rep3': '0-2', 'Reporter intensity 9 id_22ng_15K_25HCD_16_isolation_window_06_18_24_rep3': '0-2', 'Reporter intensity 10 id_22ng_15K_25HCD_16_isolation_window_06_18_24_rep3': '0-2', 'Reporter intensity 11 id_22ng_15K_25HCD_16_isolation_window_06_18_24_rep3': '0-2', 'Reporter intensity 1 Quan_2_2ng_45K_45HCD_05_isolation_window_06_12_25_rep1': '0-3', 'Reporter intensity 2 Quan_2_2ng_45K_45HCD_05_isolation_window_06_12_25_rep1': '0-3', 'Reporter intensity 3 Quan_2_2ng_45K_45HCD_05_isolation_window_06_12_25_rep1': '0-3', 'Reporter intensity 4 Quan_2_2ng_45K_45HCD_05_isolation_window_06_12_25_rep1': '0-3', 'Reporter intensity 5 Quan_2_2ng_45K_45HCD_05_isolation_window_06_12_25_rep1': '0-3', 'Reporter intensity 6 Quan_2_2ng_45K_45HCD_05_isolation_window_06_12_25_rep1': '0-3', 'Reporter intensity 7 Quan_2_2ng_45K_45HCD_05_isolation_window_06_12_25_rep1': '0-3', 'Reporter intensity 8 Quan_2_2ng_45K_45HCD_05_isolation_window_06_12_25_rep1': '0-3', 'Reporter intensity 9 Quan_2_2ng_45K_45HCD_05_isolation_window_06_12_25_rep1': '0-3', 'Reporter intensity 10 Quan_2_2ng_45K_45HCD_05_isolation_window_06_12_25_rep1': '0-3', 'Reporter intensity 11 Quan_2_2ng_45K_45HCD_05_isolation_window_06_12_25_rep1': '0-3', 'Reporter intensity 1 Quan_2_2ng_45K_45HCD_05_isolation_window_06_12_25_rep2': '0-4', 'Reporter intensity 2 Quan_2_2ng_45K_45HCD_05_isolation_window_06_12_25_rep2': '0-4', 'Reporter intensity 3 Quan_2_2ng_45K_45HCD_05_isolation_window_06_12_25_rep2': '0-4', 'Reporter intensity 4 Quan_2_2ng_45K_45HCD_05_isolation_window_06_12_25_rep2': '0-4', 'Reporter intensity 5 Quan_2_2ng_45K_45HCD_05_isolation_window_06_12_25_rep2': '0-4', 'Reporter intensity 6 Quan_2_2ng_45K_45HCD_05_isolation_window_06_12_25_rep2': '0-4', 'Reporter intensity 7 Quan_2_2ng_45K_45HCD_05_isolation_window_06_12_25_rep2': '0-4', 'Reporter intensity 8 Quan_2_2ng_45K_45HCD_05_isolation_window_06_12_25_rep2': '0-4', 'Reporter intensity 9 Quan_2_2ng_45K_45HCD_05_isolation_window_06_12_25_rep2': '0-4', 'Reporter intensity 10 Quan_2_2ng_45K_45HCD_05_isolation_window_06_12_25_rep2': '0-4', 'Reporter intensity 11 Quan_2_2ng_45K_45HCD_05_isolation_window_06_12_25_rep2': '0-4', 'Reporter intensity 1 Quan_2_2ng_45K_45HCD_05_isolation_window_06_12_25_rep3': '0-5', 'Reporter intensity 2 Quan_2_2ng_45K_45HCD_05_isolation_window_06_12_25_rep3': '0-5', 'Reporter intensity 3 Quan_2_2ng_45K_45HCD_05_isolation_window_06_12_25_rep3': '0-5', 'Reporter intensity 4 Quan_2_2ng_45K_45HCD_05_isolation_window_06_12_25_rep3': '0-5', 'Reporter intensity 5 Quan_2_2ng_45K_45HCD_05_isolation_window_06_12_25_rep3': '0-5', 'Reporter intensity 6 Quan_2_2ng_45K_45HCD_05_isolation_window_06_12_25_rep3': '0-5', 'Reporter intensity 7 Quan_2_2ng_45K_45HCD_05_isolation_window_06_12_25_rep3': '0-5', 'Reporter intensity 8 Quan_2_2ng_45K_45HCD_05_isolation_window_06_12_25_rep3': '0-5', 'Reporter intensity 9 Quan_2_2ng_45K_45HCD_05_isolation_window_06_12_25_rep3': '0-5', 'Reporter intensity 10 Quan_2_2ng_45K_45HCD_05_isolation_window_06_12_25_rep3': '0-5', 'Reporter intensity 11 Quan_2_2ng_45K_45HCD_05_isolation_window_06_12_25_rep3': '0-5'}\n",
      "{'Sequence': 'Annotated Sequence', 'Reporter intensity 1 id_22ng_15K_25HCD_16_isolation_window_06_18_24_rep1': '0-0', 'Reporter intensity 2 id_22ng_15K_25HCD_16_isolation_window_06_18_24_rep1': '0-0', 'Reporter intensity 3 id_22ng_15K_25HCD_16_isolation_window_06_18_24_rep1': '0-0', 'Reporter intensity 4 id_22ng_15K_25HCD_16_isolation_window_06_18_24_rep1': '0-0', 'Reporter intensity 5 id_22ng_15K_25HCD_16_isolation_window_06_18_24_rep1': '0-0', 'Reporter intensity 6 id_22ng_15K_25HCD_16_isolation_window_06_18_24_rep1': '0-0', 'Reporter intensity 7 id_22ng_15K_25HCD_16_isolation_window_06_18_24_rep1': '0-0', 'Reporter intensity 8 id_22ng_15K_25HCD_16_isolation_window_06_18_24_rep1': '0-0', 'Reporter intensity 9 id_22ng_15K_25HCD_16_isolation_window_06_18_24_rep1': '0-0', 'Reporter intensity 10 id_22ng_15K_25HCD_16_isolation_window_06_18_24_rep1': '0-0', 'Reporter intensity 11 id_22ng_15K_25HCD_16_isolation_window_06_18_24_rep1': '0-0', 'Reporter intensity 1 id_22ng_15K_25HCD_16_isolation_window_06_18_24_rep2': '0-1', 'Reporter intensity 2 id_22ng_15K_25HCD_16_isolation_window_06_18_24_rep2': '0-1', 'Reporter intensity 3 id_22ng_15K_25HCD_16_isolation_window_06_18_24_rep2': '0-1', 'Reporter intensity 4 id_22ng_15K_25HCD_16_isolation_window_06_18_24_rep2': '0-1', 'Reporter intensity 5 id_22ng_15K_25HCD_16_isolation_window_06_18_24_rep2': '0-1', 'Reporter intensity 6 id_22ng_15K_25HCD_16_isolation_window_06_18_24_rep2': '0-1', 'Reporter intensity 7 id_22ng_15K_25HCD_16_isolation_window_06_18_24_rep2': '0-1', 'Reporter intensity 8 id_22ng_15K_25HCD_16_isolation_window_06_18_24_rep2': '0-1', 'Reporter intensity 9 id_22ng_15K_25HCD_16_isolation_window_06_18_24_rep2': '0-1', 'Reporter intensity 10 id_22ng_15K_25HCD_16_isolation_window_06_18_24_rep2': '0-1', 'Reporter intensity 11 id_22ng_15K_25HCD_16_isolation_window_06_18_24_rep2': '0-1', 'Reporter intensity 1 id_22ng_15K_25HCD_16_isolation_window_06_18_24_rep3': '0-2', 'Reporter intensity 2 id_22ng_15K_25HCD_16_isolation_window_06_18_24_rep3': '0-2', 'Reporter intensity 3 id_22ng_15K_25HCD_16_isolation_window_06_18_24_rep3': '0-2', 'Reporter intensity 4 id_22ng_15K_25HCD_16_isolation_window_06_18_24_rep3': '0-2', 'Reporter intensity 5 id_22ng_15K_25HCD_16_isolation_window_06_18_24_rep3': '0-2', 'Reporter intensity 6 id_22ng_15K_25HCD_16_isolation_window_06_18_24_rep3': '0-2', 'Reporter intensity 7 id_22ng_15K_25HCD_16_isolation_window_06_18_24_rep3': '0-2', 'Reporter intensity 8 id_22ng_15K_25HCD_16_isolation_window_06_18_24_rep3': '0-2', 'Reporter intensity 9 id_22ng_15K_25HCD_16_isolation_window_06_18_24_rep3': '0-2', 'Reporter intensity 10 id_22ng_15K_25HCD_16_isolation_window_06_18_24_rep3': '0-2', 'Reporter intensity 11 id_22ng_15K_25HCD_16_isolation_window_06_18_24_rep3': '0-2', 'Reporter intensity 1 Quan_2_2ng_45K_45HCD_05_isolation_window_06_12_25_rep1': '0-3', 'Reporter intensity 2 Quan_2_2ng_45K_45HCD_05_isolation_window_06_12_25_rep1': '0-3', 'Reporter intensity 3 Quan_2_2ng_45K_45HCD_05_isolation_window_06_12_25_rep1': '0-3', 'Reporter intensity 4 Quan_2_2ng_45K_45HCD_05_isolation_window_06_12_25_rep1': '0-3', 'Reporter intensity 5 Quan_2_2ng_45K_45HCD_05_isolation_window_06_12_25_rep1': '0-3', 'Reporter intensity 6 Quan_2_2ng_45K_45HCD_05_isolation_window_06_12_25_rep1': '0-3', 'Reporter intensity 7 Quan_2_2ng_45K_45HCD_05_isolation_window_06_12_25_rep1': '0-3', 'Reporter intensity 8 Quan_2_2ng_45K_45HCD_05_isolation_window_06_12_25_rep1': '0-3', 'Reporter intensity 9 Quan_2_2ng_45K_45HCD_05_isolation_window_06_12_25_rep1': '0-3', 'Reporter intensity 10 Quan_2_2ng_45K_45HCD_05_isolation_window_06_12_25_rep1': '0-3', 'Reporter intensity 11 Quan_2_2ng_45K_45HCD_05_isolation_window_06_12_25_rep1': '0-3', 'Reporter intensity 1 Quan_2_2ng_45K_45HCD_05_isolation_window_06_12_25_rep2': '0-4', 'Reporter intensity 2 Quan_2_2ng_45K_45HCD_05_isolation_window_06_12_25_rep2': '0-4', 'Reporter intensity 3 Quan_2_2ng_45K_45HCD_05_isolation_window_06_12_25_rep2': '0-4', 'Reporter intensity 4 Quan_2_2ng_45K_45HCD_05_isolation_window_06_12_25_rep2': '0-4', 'Reporter intensity 5 Quan_2_2ng_45K_45HCD_05_isolation_window_06_12_25_rep2': '0-4', 'Reporter intensity 6 Quan_2_2ng_45K_45HCD_05_isolation_window_06_12_25_rep2': '0-4', 'Reporter intensity 7 Quan_2_2ng_45K_45HCD_05_isolation_window_06_12_25_rep2': '0-4', 'Reporter intensity 8 Quan_2_2ng_45K_45HCD_05_isolation_window_06_12_25_rep2': '0-4', 'Reporter intensity 9 Quan_2_2ng_45K_45HCD_05_isolation_window_06_12_25_rep2': '0-4', 'Reporter intensity 10 Quan_2_2ng_45K_45HCD_05_isolation_window_06_12_25_rep2': '0-4', 'Reporter intensity 11 Quan_2_2ng_45K_45HCD_05_isolation_window_06_12_25_rep2': '0-4', 'Reporter intensity 1 Quan_2_2ng_45K_45HCD_05_isolation_window_06_12_25_rep3': '0-5', 'Reporter intensity 2 Quan_2_2ng_45K_45HCD_05_isolation_window_06_12_25_rep3': '0-5', 'Reporter intensity 3 Quan_2_2ng_45K_45HCD_05_isolation_window_06_12_25_rep3': '0-5', 'Reporter intensity 4 Quan_2_2ng_45K_45HCD_05_isolation_window_06_12_25_rep3': '0-5', 'Reporter intensity 5 Quan_2_2ng_45K_45HCD_05_isolation_window_06_12_25_rep3': '0-5', 'Reporter intensity 6 Quan_2_2ng_45K_45HCD_05_isolation_window_06_12_25_rep3': '0-5', 'Reporter intensity 7 Quan_2_2ng_45K_45HCD_05_isolation_window_06_12_25_rep3': '0-5', 'Reporter intensity 8 Quan_2_2ng_45K_45HCD_05_isolation_window_06_12_25_rep3': '0-5', 'Reporter intensity 9 Quan_2_2ng_45K_45HCD_05_isolation_window_06_12_25_rep3': '0-5', 'Reporter intensity 10 Quan_2_2ng_45K_45HCD_05_isolation_window_06_12_25_rep3': '0-5', 'Reporter intensity 11 Quan_2_2ng_45K_45HCD_05_isolation_window_06_12_25_rep3': '0-5'}\n",
      "{'Sequence': 'Annotated Sequence', 'Identification type id_22ng_15K_25HCD_16_isolation_window_06_18_24_rep1': '0-0', 'Identification type id_22ng_15K_25HCD_16_isolation_window_06_18_24_rep2': '0-1', 'Identification type id_22ng_15K_25HCD_16_isolation_window_06_18_24_rep3': '0-2', 'Identification type Quan_2_2ng_45K_45HCD_05_isolation_window_06_12_25_rep1': '0-3', 'Identification type Quan_2_2ng_45K_45HCD_05_isolation_window_06_12_25_rep2': '0-4', 'Identification type Quan_2_2ng_45K_45HCD_05_isolation_window_06_12_25_rep3': '0-5'}\n",
      "{'Gene names': 'Symbol', 'Identification type id_22ng_15K_25HCD_16_isolation_window_06_18_24_rep1': '0-0', 'Identification type id_22ng_15K_25HCD_16_isolation_window_06_18_24_rep2': '0-1', 'Identification type id_22ng_15K_25HCD_16_isolation_window_06_18_24_rep3': '0-2', 'Identification type Quan_2_2ng_45K_45HCD_05_isolation_window_06_12_25_rep1': '0-3', 'Identification type Quan_2_2ng_45K_45HCD_05_isolation_window_06_12_25_rep2': '0-4', 'Identification type Quan_2_2ng_45K_45HCD_05_isolation_window_06_12_25_rep3': '0-5'}\n",
      "     Annotated Sequence          0-0          0-1          0-2          0-3  \\\n",
      "0             AAAALAGGK     By MS/MS     By MS/MS     By MS/MS     By MS/MS   \n",
      "1              AAAEDTAK  By matching     By MS/MS     By MS/MS         None   \n",
      "2              AAAEGPMK     By MS/MS     By MS/MS     By MS/MS     By MS/MS   \n",
      "3               AAAEYEK     By MS/MS     By MS/MS     By MS/MS     By MS/MS   \n",
      "4               AAALVNK     By MS/MS  By matching     By MS/MS     By MS/MS   \n",
      "...                 ...          ...          ...          ...          ...   \n",
      "7334            YYQPPHR     By MS/MS  By matching  By matching         None   \n",
      "7335  YYQPQQPQYPQYPQQQR     By MS/MS     By MS/MS  By matching         None   \n",
      "7336   YYSIYDLGNNAVGLAK  By matching     By MS/MS     By MS/MS         None   \n",
      "7337   YYTFNGPNYNENETIR         None     By MS/MS     By MS/MS  By matching   \n",
      "7338         YYTITEVATR     By MS/MS     By MS/MS  By matching         None   \n",
      "\n",
      "              0-4          0-5  \n",
      "0        By MS/MS     By MS/MS  \n",
      "1        By MS/MS         None  \n",
      "2        By MS/MS     By MS/MS  \n",
      "3     By matching     By MS/MS  \n",
      "4        By MS/MS     By MS/MS  \n",
      "...           ...          ...  \n",
      "7334  By matching  By matching  \n",
      "7335         None         None  \n",
      "7336         None         None  \n",
      "7337  By matching  By matching  \n",
      "7338         None     By MS/MS  \n",
      "\n",
      "[7333 rows x 7 columns]\n",
      "***\n"
     ]
    },
    {
     "name": "stderr",
     "output_type": "stream",
     "text": [
      "f:\\Kei_PhD_Data\\Greedy\\SCP_TMT\\SCP_processor.py:338: SettingWithCopyWarning:\n",
      "\n",
      "\n",
      "A value is trying to be set on a copy of a slice from a DataFrame.\n",
      "Try using .loc[row_indexer,col_indexer] = value instead\n",
      "\n",
      "See the caveats in the documentation: https://pandas.pydata.org/pandas-docs/stable/user_guide/indexing.html#returning-a-view-versus-a-copy\n",
      "\n",
      "f:\\Kei_PhD_Data\\Greedy\\SCP_TMT\\SCP_processor.py:339: SettingWithCopyWarning:\n",
      "\n",
      "\n",
      "A value is trying to be set on a copy of a slice from a DataFrame.\n",
      "Try using .loc[row_indexer,col_indexer] = value instead\n",
      "\n",
      "See the caveats in the documentation: https://pandas.pydata.org/pandas-docs/stable/user_guide/indexing.html#returning-a-view-versus-a-copy\n",
      "\n",
      "f:\\Kei_PhD_Data\\Greedy\\SCP_TMT\\SCP_processor.py:348: SettingWithCopyWarning:\n",
      "\n",
      "\n",
      "A value is trying to be set on a copy of a slice from a DataFrame\n",
      "\n",
      "See the caveats in the documentation: https://pandas.pydata.org/pandas-docs/stable/user_guide/indexing.html#returning-a-view-versus-a-copy\n",
      "\n",
      "f:\\Kei_PhD_Data\\Greedy\\SCP_TMT\\SCP_processor.py:348: SettingWithCopyWarning:\n",
      "\n",
      "\n",
      "A value is trying to be set on a copy of a slice from a DataFrame\n",
      "\n",
      "See the caveats in the documentation: https://pandas.pydata.org/pandas-docs/stable/user_guide/indexing.html#returning-a-view-versus-a-copy\n",
      "\n",
      "f:\\Kei_PhD_Data\\Greedy\\SCP_TMT\\SCP_processor.py:355: SettingWithCopyWarning:\n",
      "\n",
      "\n",
      "A value is trying to be set on a copy of a slice from a DataFrame.\n",
      "Try using .loc[row_indexer,col_indexer] = value instead\n",
      "\n",
      "See the caveats in the documentation: https://pandas.pydata.org/pandas-docs/stable/user_guide/indexing.html#returning-a-view-versus-a-copy\n",
      "\n",
      "f:\\Kei_PhD_Data\\Greedy\\SCP_TMT\\SCP_processor.py:358: SettingWithCopyWarning:\n",
      "\n",
      "\n",
      "A value is trying to be set on a copy of a slice from a DataFrame.\n",
      "Try using .loc[row_indexer,col_indexer] = value instead\n",
      "\n",
      "See the caveats in the documentation: https://pandas.pydata.org/pandas-docs/stable/user_guide/indexing.html#returning-a-view-versus-a-copy\n",
      "\n"
     ]
    }
   ],
   "source": [
    "# define group names and assign analysis to different groups(web app version was done through GUI so\n",
    "# steps are taken to make sure they have same output)\n",
    "x = processor.read_files(grouped_input_files=filelist)\n",
    "data_obj = processor.outer_join_data_objects(x)\n",
    "\n",
    "# print(data_obj)\n",
    "\n",
    "settings_table = pd.read_table(SETTINGS_FILE,sep=\"\\t\")\n",
    "saved_settings = settings_table.set_index(\"Conditions\").to_dict(orient=\"index\")\n",
    "#any run with any of the filter_out items will not be used.\n",
    "\n",
    "for eachGroup in saved_settings:\n",
    "    i = 0\n",
    "    saved_settings[eachGroup][\"records\"] = []\n",
    "    filterOutType = type(saved_settings[eachGroup][\"filter_out\"])\n",
    "    if filterOutType == str or filterOutType == int or filterOutType == float and not pd.isna(saved_settings[eachGroup][\"filter_out\"]):\n",
    "        filterOut = str.split(saved_settings[eachGroup][\"filter_out\"],sep = \",\")\n",
    "    else:\n",
    "        filterOut = [\"M@di\"]\n",
    "    if len(str.split(str(saved_settings[eachGroup][\"filter_in\"]),sep = \"@\")) > 1: #multiple files, only some have the runs for this group\n",
    "        user_list = []\n",
    "        #add all runs from all analyses to be probed\n",
    "        for each_fileID in str.split(str(saved_settings[eachGroup][\"filter_in\"]),sep = \"@\")[1:]:\n",
    "            for eachIdentifier in data_obj[\"run_metadata\"][\"Run Identifier\"]:    \n",
    "                currentRun = data_obj[\"run_metadata\"][data_obj[\"run_metadata\"][\"Run Identifier\"] == eachIdentifier][\"Run Names\"] \n",
    "                if currentRun.size == 1:\n",
    "                    if each_fileID == str.split(eachIdentifier,sep=\"-\")[0] and list(currentRun)[0] not in user_list:\n",
    "                        user_list.append(list(currentRun)[0])\n",
    "                else:\n",
    "                    pass\n",
    "        #filter for runs that relate to this gorup within those analyses\n",
    "        for run_name in user_list:\n",
    "            if str.split(str(saved_settings[eachGroup][\"filter_in\"]),sep = \"@\")[0] in run_name and (not any(item in run_name for item in filterOut)):\n",
    "                saved_settings[eachGroup][\"records\"].append(list(data_obj[\"run_metadata\"][data_obj[\"run_metadata\"][\"Run Names\"] == run_name][\"Run Names\"])[0]) \n",
    "            else:\n",
    "                pass\n",
    "    elif len(str.split(str(saved_settings[eachGroup][\"filter_in\"]),sep = \"@\")) == 1: #across all files or maybe there is only one\n",
    "            for run_name in data_obj[\"run_metadata\"][\"Run Names\"]:\n",
    "                if str(saved_settings[eachGroup][\"filter_in\"]) in run_name and (not any(item in run_name for item in filterOut)):\n",
    "                    saved_settings[eachGroup][\"records\"].append(data_obj[\"run_metadata\"][\"Run Names\"][i])  \n",
    "                i = i + 1   \n",
    "\n",
    "#add the order of each column\n",
    "ignore_columns = [\"filter_in\",\"filter_out\"]\n",
    "category_columns = [x for x in settings_table.columns.to_list() if x not in ignore_columns]\n",
    "\n",
    "for eachCol in category_columns:\n",
    "    saved_settings[\"Order@\"+eachCol] = settings_table[eachCol].drop_duplicates().to_list()\n",
    "    "
   ]
  },
  {
   "cell_type": "code",
   "execution_count": 25,
   "id": "c3496d1b",
   "metadata": {},
   "outputs": [
    {
     "name": "stderr",
     "output_type": "stream",
     "text": [
      "f:\\Kei_PhD_Data\\Greedy\\SCP_TMT\\SCP_plotter.py:602: FutureWarning:\n",
      "\n",
      "The frame.append method is deprecated and will be removed from pandas in a future version. Use pandas.concat instead.\n",
      "\n",
      "f:\\Kei_PhD_Data\\Greedy\\SCP_TMT\\SCP_plotter.py:602: FutureWarning:\n",
      "\n",
      "The frame.append method is deprecated and will be removed from pandas in a future version. Use pandas.concat instead.\n",
      "\n",
      "f:\\Kei_PhD_Data\\Greedy\\SCP_TMT\\SCP_plotter.py:602: FutureWarning:\n",
      "\n",
      "The frame.append method is deprecated and will be removed from pandas in a future version. Use pandas.concat instead.\n",
      "\n",
      "f:\\Kei_PhD_Data\\Greedy\\SCP_TMT\\SCP_plotter.py:602: FutureWarning:\n",
      "\n",
      "The frame.append method is deprecated and will be removed from pandas in a future version. Use pandas.concat instead.\n",
      "\n",
      "f:\\Kei_PhD_Data\\Greedy\\SCP_TMT\\SCP_plotter.py:602: FutureWarning:\n",
      "\n",
      "The frame.append method is deprecated and will be removed from pandas in a future version. Use pandas.concat instead.\n",
      "\n",
      "f:\\Kei_PhD_Data\\Greedy\\SCP_TMT\\SCP_plotter.py:602: FutureWarning:\n",
      "\n",
      "The frame.append method is deprecated and will be removed from pandas in a future version. Use pandas.concat instead.\n",
      "\n"
     ]
    },
    {
     "name": "stdout",
     "output_type": "stream",
     "text": [
      "     Annotated Sequence  0-0  0-1  0-2  0-3  0-4  0-5\n",
      "0             AAAALAGGK  MS2  MS2  MS2  MS2  MS2  MS2\n",
      "1              AAAEDTAK  MBR  MS2  MS2  NaN  MS2  NaN\n",
      "2              AAAEGPMK  MS2  MS2  MS2  MS2  MS2  MS2\n",
      "3               AAAEYEK  MS2  MS2  MS2  MS2  MBR  MS2\n",
      "4               AAALVNK  MS2  MBR  MS2  MS2  MS2  MS2\n",
      "...                 ...  ...  ...  ...  ...  ...  ...\n",
      "7334            YYQPPHR  MS2  MBR  MBR  NaN  MBR  MBR\n",
      "7335  YYQPQQPQYPQYPQQQR  MS2  MS2  MBR  NaN  NaN  NaN\n",
      "7336   YYSIYDLGNNAVGLAK  MBR  MS2  MS2  NaN  NaN  NaN\n",
      "7337   YYTFNGPNYNENETIR  NaN  MS2  MS2  MBR  MBR  MBR\n",
      "7338         YYTITEVATR  MS2  MS2  MBR  NaN  NaN  MS2\n",
      "\n",
      "[7333 rows x 7 columns]\n",
      "['Quan_2_2ng_45K_45HCD_05_isolation_window_06_12_25_rep1', 'Quan_2_2ng_45K_45HCD_05_isolation_window_06_12_25_rep2', 'Quan_2_2ng_45K_45HCD_05_isolation_window_06_12_25_rep3', 'Annotated Sequence', 'Symbol']\n",
      "['id_22ng_15K_25HCD_16_isolation_window_06_18_24_rep1', 'id_22ng_15K_25HCD_16_isolation_window_06_18_24_rep2', 'id_22ng_15K_25HCD_16_isolation_window_06_18_24_rep3', 'Annotated Sequence', 'Symbol']\n",
      "Index(['Symbol', '0-3', '0-4', '0-5'], dtype='object')\n",
      "      Missing Values Rate                                             Symbol\n",
      "3                     0.0  TY1B-H;TY1B-GR3;TY1B-NL2;TY1B-OR;TY1B-LR1;TY1B...\n",
      "4                   100.0                                              RPN13\n",
      "6                     0.0                                               MBF1\n",
      "7                     0.0                                          YBR085C-A\n",
      "8                   100.0                                               TIM9\n",
      "...                   ...                                                ...\n",
      "1197                100.0                                          YKL033W-A\n",
      "1201                  0.0                                               RIB3\n",
      "1204                100.0                                               DDP1\n",
      "1206                100.0                                               HRP1\n",
      "1220                100.0                                                NaN\n",
      "\n",
      "[966 rows x 2 columns]\n",
      "Index(['Annotated Sequence', '0-3', '0-4', '0-5'], dtype='object')\n",
      "Index(['Symbol', '0-0', '0-1', '0-2'], dtype='object')\n",
      "      Missing Values Rate                                             Symbol\n",
      "3                0.000000  TY1B-H;TY1B-GR3;TY1B-NL2;TY1B-OR;TY1B-LR1;TY1B...\n",
      "4                0.000000                                              RPN13\n",
      "6                0.000000                                               MBF1\n",
      "7                0.000000                                          YBR085C-A\n",
      "8                0.000000                                               TIM9\n",
      "...                   ...                                                ...\n",
      "1197            33.333333                                          YKL033W-A\n",
      "1201             0.000000                                               RIB3\n",
      "1204             0.000000                                               DDP1\n",
      "1206             0.000000                                               HRP1\n",
      "1220            33.333333                                                NaN\n",
      "\n",
      "[966 rows x 2 columns]\n",
      "Index(['Annotated Sequence', '0-0', '0-1', '0-2'], dtype='object')\n",
      "Downloading links...\n"
     ]
    },
    {
     "data": {
      "application/vnd.plotly.v1+json": {
       "config": {
        "plotlyServerURL": "https://plot.ly"
       },
       "data": [
        {
         "marker": {
          "color": "#3E6990"
         },
         "name": "33.3",
         "text": [
          "425",
          "895"
         ],
         "type": "bar",
         "x": [
          "Quant",
          "Library"
         ],
         "y": [
          425,
          895
         ]
        },
        {
         "base": [
          425,
          895
         ],
         "marker": {
          "color": "#AABD8C"
         },
         "name": "50",
         "text": [
          "480",
          "959"
         ],
         "type": "bar",
         "x": [
          "Quant",
          "Library"
         ],
         "y": [
          55,
          64
         ]
        },
        {
         "base": [
          480,
          959
         ],
         "marker": {
          "color": "#E9E3B4"
         },
         "name": "99",
         "text": [
          "530",
          "966"
         ],
         "type": "bar",
         "x": [
          "Quant",
          "Library"
         ],
         "y": [
          50,
          7
         ]
        }
       ],
       "layout": {
        "barmode": "stack",
        "paper_bgcolor": "rgba(255,255,255,255)",
        "plot_bgcolor": "rgba(255, 255, 255, 255)",
        "template": {
         "data": {
          "bar": [
           {
            "error_x": {
             "color": "#2a3f5f"
            },
            "error_y": {
             "color": "#2a3f5f"
            },
            "marker": {
             "line": {
              "color": "#E5ECF6",
              "width": 0.5
             },
             "pattern": {
              "fillmode": "overlay",
              "size": 10,
              "solidity": 0.2
             }
            },
            "type": "bar"
           }
          ],
          "barpolar": [
           {
            "marker": {
             "line": {
              "color": "#E5ECF6",
              "width": 0.5
             },
             "pattern": {
              "fillmode": "overlay",
              "size": 10,
              "solidity": 0.2
             }
            },
            "type": "barpolar"
           }
          ],
          "carpet": [
           {
            "aaxis": {
             "endlinecolor": "#2a3f5f",
             "gridcolor": "white",
             "linecolor": "white",
             "minorgridcolor": "white",
             "startlinecolor": "#2a3f5f"
            },
            "baxis": {
             "endlinecolor": "#2a3f5f",
             "gridcolor": "white",
             "linecolor": "white",
             "minorgridcolor": "white",
             "startlinecolor": "#2a3f5f"
            },
            "type": "carpet"
           }
          ],
          "choropleth": [
           {
            "colorbar": {
             "outlinewidth": 0,
             "ticks": ""
            },
            "type": "choropleth"
           }
          ],
          "contour": [
           {
            "colorbar": {
             "outlinewidth": 0,
             "ticks": ""
            },
            "colorscale": [
             [
              0,
              "#0d0887"
             ],
             [
              0.1111111111111111,
              "#46039f"
             ],
             [
              0.2222222222222222,
              "#7201a8"
             ],
             [
              0.3333333333333333,
              "#9c179e"
             ],
             [
              0.4444444444444444,
              "#bd3786"
             ],
             [
              0.5555555555555556,
              "#d8576b"
             ],
             [
              0.6666666666666666,
              "#ed7953"
             ],
             [
              0.7777777777777778,
              "#fb9f3a"
             ],
             [
              0.8888888888888888,
              "#fdca26"
             ],
             [
              1,
              "#f0f921"
             ]
            ],
            "type": "contour"
           }
          ],
          "contourcarpet": [
           {
            "colorbar": {
             "outlinewidth": 0,
             "ticks": ""
            },
            "type": "contourcarpet"
           }
          ],
          "heatmap": [
           {
            "colorbar": {
             "outlinewidth": 0,
             "ticks": ""
            },
            "colorscale": [
             [
              0,
              "#0d0887"
             ],
             [
              0.1111111111111111,
              "#46039f"
             ],
             [
              0.2222222222222222,
              "#7201a8"
             ],
             [
              0.3333333333333333,
              "#9c179e"
             ],
             [
              0.4444444444444444,
              "#bd3786"
             ],
             [
              0.5555555555555556,
              "#d8576b"
             ],
             [
              0.6666666666666666,
              "#ed7953"
             ],
             [
              0.7777777777777778,
              "#fb9f3a"
             ],
             [
              0.8888888888888888,
              "#fdca26"
             ],
             [
              1,
              "#f0f921"
             ]
            ],
            "type": "heatmap"
           }
          ],
          "heatmapgl": [
           {
            "colorbar": {
             "outlinewidth": 0,
             "ticks": ""
            },
            "colorscale": [
             [
              0,
              "#0d0887"
             ],
             [
              0.1111111111111111,
              "#46039f"
             ],
             [
              0.2222222222222222,
              "#7201a8"
             ],
             [
              0.3333333333333333,
              "#9c179e"
             ],
             [
              0.4444444444444444,
              "#bd3786"
             ],
             [
              0.5555555555555556,
              "#d8576b"
             ],
             [
              0.6666666666666666,
              "#ed7953"
             ],
             [
              0.7777777777777778,
              "#fb9f3a"
             ],
             [
              0.8888888888888888,
              "#fdca26"
             ],
             [
              1,
              "#f0f921"
             ]
            ],
            "type": "heatmapgl"
           }
          ],
          "histogram": [
           {
            "marker": {
             "pattern": {
              "fillmode": "overlay",
              "size": 10,
              "solidity": 0.2
             }
            },
            "type": "histogram"
           }
          ],
          "histogram2d": [
           {
            "colorbar": {
             "outlinewidth": 0,
             "ticks": ""
            },
            "colorscale": [
             [
              0,
              "#0d0887"
             ],
             [
              0.1111111111111111,
              "#46039f"
             ],
             [
              0.2222222222222222,
              "#7201a8"
             ],
             [
              0.3333333333333333,
              "#9c179e"
             ],
             [
              0.4444444444444444,
              "#bd3786"
             ],
             [
              0.5555555555555556,
              "#d8576b"
             ],
             [
              0.6666666666666666,
              "#ed7953"
             ],
             [
              0.7777777777777778,
              "#fb9f3a"
             ],
             [
              0.8888888888888888,
              "#fdca26"
             ],
             [
              1,
              "#f0f921"
             ]
            ],
            "type": "histogram2d"
           }
          ],
          "histogram2dcontour": [
           {
            "colorbar": {
             "outlinewidth": 0,
             "ticks": ""
            },
            "colorscale": [
             [
              0,
              "#0d0887"
             ],
             [
              0.1111111111111111,
              "#46039f"
             ],
             [
              0.2222222222222222,
              "#7201a8"
             ],
             [
              0.3333333333333333,
              "#9c179e"
             ],
             [
              0.4444444444444444,
              "#bd3786"
             ],
             [
              0.5555555555555556,
              "#d8576b"
             ],
             [
              0.6666666666666666,
              "#ed7953"
             ],
             [
              0.7777777777777778,
              "#fb9f3a"
             ],
             [
              0.8888888888888888,
              "#fdca26"
             ],
             [
              1,
              "#f0f921"
             ]
            ],
            "type": "histogram2dcontour"
           }
          ],
          "mesh3d": [
           {
            "colorbar": {
             "outlinewidth": 0,
             "ticks": ""
            },
            "type": "mesh3d"
           }
          ],
          "parcoords": [
           {
            "line": {
             "colorbar": {
              "outlinewidth": 0,
              "ticks": ""
             }
            },
            "type": "parcoords"
           }
          ],
          "pie": [
           {
            "automargin": true,
            "type": "pie"
           }
          ],
          "scatter": [
           {
            "fillpattern": {
             "fillmode": "overlay",
             "size": 10,
             "solidity": 0.2
            },
            "type": "scatter"
           }
          ],
          "scatter3d": [
           {
            "line": {
             "colorbar": {
              "outlinewidth": 0,
              "ticks": ""
             }
            },
            "marker": {
             "colorbar": {
              "outlinewidth": 0,
              "ticks": ""
             }
            },
            "type": "scatter3d"
           }
          ],
          "scattercarpet": [
           {
            "marker": {
             "colorbar": {
              "outlinewidth": 0,
              "ticks": ""
             }
            },
            "type": "scattercarpet"
           }
          ],
          "scattergeo": [
           {
            "marker": {
             "colorbar": {
              "outlinewidth": 0,
              "ticks": ""
             }
            },
            "type": "scattergeo"
           }
          ],
          "scattergl": [
           {
            "marker": {
             "colorbar": {
              "outlinewidth": 0,
              "ticks": ""
             }
            },
            "type": "scattergl"
           }
          ],
          "scattermapbox": [
           {
            "marker": {
             "colorbar": {
              "outlinewidth": 0,
              "ticks": ""
             }
            },
            "type": "scattermapbox"
           }
          ],
          "scatterpolar": [
           {
            "marker": {
             "colorbar": {
              "outlinewidth": 0,
              "ticks": ""
             }
            },
            "type": "scatterpolar"
           }
          ],
          "scatterpolargl": [
           {
            "marker": {
             "colorbar": {
              "outlinewidth": 0,
              "ticks": ""
             }
            },
            "type": "scatterpolargl"
           }
          ],
          "scatterternary": [
           {
            "marker": {
             "colorbar": {
              "outlinewidth": 0,
              "ticks": ""
             }
            },
            "type": "scatterternary"
           }
          ],
          "surface": [
           {
            "colorbar": {
             "outlinewidth": 0,
             "ticks": ""
            },
            "colorscale": [
             [
              0,
              "#0d0887"
             ],
             [
              0.1111111111111111,
              "#46039f"
             ],
             [
              0.2222222222222222,
              "#7201a8"
             ],
             [
              0.3333333333333333,
              "#9c179e"
             ],
             [
              0.4444444444444444,
              "#bd3786"
             ],
             [
              0.5555555555555556,
              "#d8576b"
             ],
             [
              0.6666666666666666,
              "#ed7953"
             ],
             [
              0.7777777777777778,
              "#fb9f3a"
             ],
             [
              0.8888888888888888,
              "#fdca26"
             ],
             [
              1,
              "#f0f921"
             ]
            ],
            "type": "surface"
           }
          ],
          "table": [
           {
            "cells": {
             "fill": {
              "color": "#EBF0F8"
             },
             "line": {
              "color": "white"
             }
            },
            "header": {
             "fill": {
              "color": "#C8D4E3"
             },
             "line": {
              "color": "white"
             }
            },
            "type": "table"
           }
          ]
         },
         "layout": {
          "annotationdefaults": {
           "arrowcolor": "#2a3f5f",
           "arrowhead": 0,
           "arrowwidth": 1
          },
          "autotypenumbers": "strict",
          "coloraxis": {
           "colorbar": {
            "outlinewidth": 0,
            "ticks": ""
           }
          },
          "colorscale": {
           "diverging": [
            [
             0,
             "#8e0152"
            ],
            [
             0.1,
             "#c51b7d"
            ],
            [
             0.2,
             "#de77ae"
            ],
            [
             0.3,
             "#f1b6da"
            ],
            [
             0.4,
             "#fde0ef"
            ],
            [
             0.5,
             "#f7f7f7"
            ],
            [
             0.6,
             "#e6f5d0"
            ],
            [
             0.7,
             "#b8e186"
            ],
            [
             0.8,
             "#7fbc41"
            ],
            [
             0.9,
             "#4d9221"
            ],
            [
             1,
             "#276419"
            ]
           ],
           "sequential": [
            [
             0,
             "#0d0887"
            ],
            [
             0.1111111111111111,
             "#46039f"
            ],
            [
             0.2222222222222222,
             "#7201a8"
            ],
            [
             0.3333333333333333,
             "#9c179e"
            ],
            [
             0.4444444444444444,
             "#bd3786"
            ],
            [
             0.5555555555555556,
             "#d8576b"
            ],
            [
             0.6666666666666666,
             "#ed7953"
            ],
            [
             0.7777777777777778,
             "#fb9f3a"
            ],
            [
             0.8888888888888888,
             "#fdca26"
            ],
            [
             1,
             "#f0f921"
            ]
           ],
           "sequentialminus": [
            [
             0,
             "#0d0887"
            ],
            [
             0.1111111111111111,
             "#46039f"
            ],
            [
             0.2222222222222222,
             "#7201a8"
            ],
            [
             0.3333333333333333,
             "#9c179e"
            ],
            [
             0.4444444444444444,
             "#bd3786"
            ],
            [
             0.5555555555555556,
             "#d8576b"
            ],
            [
             0.6666666666666666,
             "#ed7953"
            ],
            [
             0.7777777777777778,
             "#fb9f3a"
            ],
            [
             0.8888888888888888,
             "#fdca26"
            ],
            [
             1,
             "#f0f921"
            ]
           ]
          },
          "colorway": [
           "#636efa",
           "#EF553B",
           "#00cc96",
           "#ab63fa",
           "#FFA15A",
           "#19d3f3",
           "#FF6692",
           "#B6E880",
           "#FF97FF",
           "#FECB52"
          ],
          "font": {
           "color": "#2a3f5f"
          },
          "geo": {
           "bgcolor": "white",
           "lakecolor": "white",
           "landcolor": "#E5ECF6",
           "showlakes": true,
           "showland": true,
           "subunitcolor": "white"
          },
          "hoverlabel": {
           "align": "left"
          },
          "hovermode": "closest",
          "mapbox": {
           "style": "light"
          },
          "paper_bgcolor": "white",
          "plot_bgcolor": "#E5ECF6",
          "polar": {
           "angularaxis": {
            "gridcolor": "white",
            "linecolor": "white",
            "ticks": ""
           },
           "bgcolor": "#E5ECF6",
           "radialaxis": {
            "gridcolor": "white",
            "linecolor": "white",
            "ticks": ""
           }
          },
          "scene": {
           "xaxis": {
            "backgroundcolor": "#E5ECF6",
            "gridcolor": "white",
            "gridwidth": 2,
            "linecolor": "white",
            "showbackground": true,
            "ticks": "",
            "zerolinecolor": "white"
           },
           "yaxis": {
            "backgroundcolor": "#E5ECF6",
            "gridcolor": "white",
            "gridwidth": 2,
            "linecolor": "white",
            "showbackground": true,
            "ticks": "",
            "zerolinecolor": "white"
           },
           "zaxis": {
            "backgroundcolor": "#E5ECF6",
            "gridcolor": "white",
            "gridwidth": 2,
            "linecolor": "white",
            "showbackground": true,
            "ticks": "",
            "zerolinecolor": "white"
           }
          },
          "shapedefaults": {
           "line": {
            "color": "#2a3f5f"
           }
          },
          "ternary": {
           "aaxis": {
            "gridcolor": "white",
            "linecolor": "white",
            "ticks": ""
           },
           "baxis": {
            "gridcolor": "white",
            "linecolor": "white",
            "ticks": ""
           },
           "bgcolor": "#E5ECF6",
           "caxis": {
            "gridcolor": "white",
            "linecolor": "white",
            "ticks": ""
           }
          },
          "title": {
           "x": 0.05
          },
          "xaxis": {
           "automargin": true,
           "gridcolor": "white",
           "linecolor": "white",
           "ticks": "",
           "title": {
            "standoff": 15
           },
           "zerolinecolor": "white",
           "zerolinewidth": 2
          },
          "yaxis": {
           "automargin": true,
           "gridcolor": "white",
           "linecolor": "white",
           "ticks": "",
           "title": {
            "standoff": 15
           },
           "zerolinecolor": "white",
           "zerolinewidth": 2
          }
         }
        },
        "xaxis": {
         "categoryarray": [
          "Quant",
          "Library"
         ],
         "categoryorder": "array",
         "linecolor": "black",
         "linewidth": 1,
         "showline": true,
         "title": {
          "text": "Conditions"
         }
        },
        "yaxis": {
         "linecolor": "black",
         "linewidth": 1,
         "showline": true,
         "title": {
          "text": "Protein Identifications"
         }
        }
       }
      }
     },
     "metadata": {},
     "output_type": "display_data"
    }
   ],
   "source": [
    "#Missing val plot plot(protein and peptides)\n",
    "# print(saved_settings)\n",
    "print(data_obj[\"peptide_ID_matrix\"])\n",
    "plot_options={\n",
    "            \"mean label\": \"True\",\n",
    "            \"error bar\": \"ci95\", #None, stdev, or ci95\n",
    "            \"X Title\": \"Conditions\",\n",
    "            \"cutoffs\": [33.3,50,99],\n",
    "            \"Y Title\": \"Protein Identifications\",\n",
    "            \"color\": [\"#3E6990\", \"#7aa8e6\",\"#AABD8C\", \"#E9E3B4\", \"#C6878F\", \"#fac8d3\",\"#F39B6D\",  \"pink\",\n",
    "                  \"orange\", \"brown\", \"pink\", \"gray\", \"olive\", \"cyan\", \"black\",\"red\",\n",
    "                  \"yellow\",\"green\",\"blue\",\"indigo\",\"violet\"],\n",
    "            \"width\": 700,\n",
    "            \"height\": 450,\n",
    "            \"font\": dict(size=32, family=\"Arial black\"),\n",
    "            \"ID mode\": \"stacked\",#stacked\n",
    "            \"Group By X\": \"Conditions\", #ID_Mode does MS2 vs MBR\n",
    "        }\n",
    "plot_options[\"plot_type\"] = \"1\" # 1 is protein, 2 is peptide\n",
    "figure ,_ ,_ =plotter.Missing_Values_Plots(data_obj, plot_options, saved_settings)\n",
    "figure.write_image(\"greedy_missing_val.png\", scale=10, width = 1000, height=1000)\n",
    "figure.show()"
   ]
  },
  {
   "cell_type": "code",
   "execution_count": 26,
   "id": "694ffc20",
   "metadata": {},
   "outputs": [
    {
     "name": "stdout",
     "output_type": "stream",
     "text": [
      "Downloading links...\n"
     ]
    },
    {
     "data": {
      "application/vnd.plotly.v1+json": {
       "config": {
        "plotlyServerURL": "https://plot.ly"
       },
       "data": [
        {
         "error_y": {
          "array": [
           15.970771023488878
          ],
          "type": "data",
          "visible": true
         },
         "marker": {
          "color": "#3E6990"
         },
         "name": "MS2_IDs 5",
         "offsetgroup": "0",
         "text": [
          "478"
         ],
         "type": "bar",
         "x": [
          "2ng"
         ],
         "y": [
          478.3333333333333
         ]
        },
        {
         "base": [
          478.3333333333333
         ],
         "error_y": {
          "array": [
           10.342290025473496
          ],
          "type": "data",
          "visible": true
         },
         "marker": {
          "color": "#3E6990"
         },
         "name": "MBR_IDs 5",
         "offsetgroup": "0",
         "opacity": 0.5,
         "text": [
          "758"
         ],
         "type": "bar",
         "x": [
          "2ng"
         ],
         "y": [
          279.6666666666667
         ]
        },
        {
         "error_y": {
          "array": [
           10.828105247765281
          ],
          "type": "data",
          "visible": true
         },
         "marker": {
          "color": "#7aa8e6"
         },
         "name": "MS2_IDs 6",
         "offsetgroup": "1",
         "text": [
          "940"
         ],
         "type": "bar",
         "x": [
          "22ng"
         ],
         "y": [
          940
         ]
        },
        {
         "base": [
          940
         ],
         "error_y": {
          "array": [
           7.5891660674789305
          ],
          "type": "data",
          "visible": true
         },
         "marker": {
          "color": "#7aa8e6"
         },
         "name": "MBR_IDs 6",
         "offsetgroup": "1",
         "opacity": 0.5,
         "text": [
          "962"
         ],
         "type": "bar",
         "x": [
          "22ng"
         ],
         "y": [
          21.666666666666668
         ]
        }
       ],
       "layout": {
        "barmode": "group",
        "paper_bgcolor": "rgba(255, 255, 255, 255)",
        "plot_bgcolor": "rgba(255, 255, 255, 255)",
        "template": {
         "data": {
          "bar": [
           {
            "error_x": {
             "color": "#2a3f5f"
            },
            "error_y": {
             "color": "#2a3f5f"
            },
            "marker": {
             "line": {
              "color": "#E5ECF6",
              "width": 0.5
             },
             "pattern": {
              "fillmode": "overlay",
              "size": 10,
              "solidity": 0.2
             }
            },
            "type": "bar"
           }
          ],
          "barpolar": [
           {
            "marker": {
             "line": {
              "color": "#E5ECF6",
              "width": 0.5
             },
             "pattern": {
              "fillmode": "overlay",
              "size": 10,
              "solidity": 0.2
             }
            },
            "type": "barpolar"
           }
          ],
          "carpet": [
           {
            "aaxis": {
             "endlinecolor": "#2a3f5f",
             "gridcolor": "white",
             "linecolor": "white",
             "minorgridcolor": "white",
             "startlinecolor": "#2a3f5f"
            },
            "baxis": {
             "endlinecolor": "#2a3f5f",
             "gridcolor": "white",
             "linecolor": "white",
             "minorgridcolor": "white",
             "startlinecolor": "#2a3f5f"
            },
            "type": "carpet"
           }
          ],
          "choropleth": [
           {
            "colorbar": {
             "outlinewidth": 0,
             "ticks": ""
            },
            "type": "choropleth"
           }
          ],
          "contour": [
           {
            "colorbar": {
             "outlinewidth": 0,
             "ticks": ""
            },
            "colorscale": [
             [
              0,
              "#0d0887"
             ],
             [
              0.1111111111111111,
              "#46039f"
             ],
             [
              0.2222222222222222,
              "#7201a8"
             ],
             [
              0.3333333333333333,
              "#9c179e"
             ],
             [
              0.4444444444444444,
              "#bd3786"
             ],
             [
              0.5555555555555556,
              "#d8576b"
             ],
             [
              0.6666666666666666,
              "#ed7953"
             ],
             [
              0.7777777777777778,
              "#fb9f3a"
             ],
             [
              0.8888888888888888,
              "#fdca26"
             ],
             [
              1,
              "#f0f921"
             ]
            ],
            "type": "contour"
           }
          ],
          "contourcarpet": [
           {
            "colorbar": {
             "outlinewidth": 0,
             "ticks": ""
            },
            "type": "contourcarpet"
           }
          ],
          "heatmap": [
           {
            "colorbar": {
             "outlinewidth": 0,
             "ticks": ""
            },
            "colorscale": [
             [
              0,
              "#0d0887"
             ],
             [
              0.1111111111111111,
              "#46039f"
             ],
             [
              0.2222222222222222,
              "#7201a8"
             ],
             [
              0.3333333333333333,
              "#9c179e"
             ],
             [
              0.4444444444444444,
              "#bd3786"
             ],
             [
              0.5555555555555556,
              "#d8576b"
             ],
             [
              0.6666666666666666,
              "#ed7953"
             ],
             [
              0.7777777777777778,
              "#fb9f3a"
             ],
             [
              0.8888888888888888,
              "#fdca26"
             ],
             [
              1,
              "#f0f921"
             ]
            ],
            "type": "heatmap"
           }
          ],
          "heatmapgl": [
           {
            "colorbar": {
             "outlinewidth": 0,
             "ticks": ""
            },
            "colorscale": [
             [
              0,
              "#0d0887"
             ],
             [
              0.1111111111111111,
              "#46039f"
             ],
             [
              0.2222222222222222,
              "#7201a8"
             ],
             [
              0.3333333333333333,
              "#9c179e"
             ],
             [
              0.4444444444444444,
              "#bd3786"
             ],
             [
              0.5555555555555556,
              "#d8576b"
             ],
             [
              0.6666666666666666,
              "#ed7953"
             ],
             [
              0.7777777777777778,
              "#fb9f3a"
             ],
             [
              0.8888888888888888,
              "#fdca26"
             ],
             [
              1,
              "#f0f921"
             ]
            ],
            "type": "heatmapgl"
           }
          ],
          "histogram": [
           {
            "marker": {
             "pattern": {
              "fillmode": "overlay",
              "size": 10,
              "solidity": 0.2
             }
            },
            "type": "histogram"
           }
          ],
          "histogram2d": [
           {
            "colorbar": {
             "outlinewidth": 0,
             "ticks": ""
            },
            "colorscale": [
             [
              0,
              "#0d0887"
             ],
             [
              0.1111111111111111,
              "#46039f"
             ],
             [
              0.2222222222222222,
              "#7201a8"
             ],
             [
              0.3333333333333333,
              "#9c179e"
             ],
             [
              0.4444444444444444,
              "#bd3786"
             ],
             [
              0.5555555555555556,
              "#d8576b"
             ],
             [
              0.6666666666666666,
              "#ed7953"
             ],
             [
              0.7777777777777778,
              "#fb9f3a"
             ],
             [
              0.8888888888888888,
              "#fdca26"
             ],
             [
              1,
              "#f0f921"
             ]
            ],
            "type": "histogram2d"
           }
          ],
          "histogram2dcontour": [
           {
            "colorbar": {
             "outlinewidth": 0,
             "ticks": ""
            },
            "colorscale": [
             [
              0,
              "#0d0887"
             ],
             [
              0.1111111111111111,
              "#46039f"
             ],
             [
              0.2222222222222222,
              "#7201a8"
             ],
             [
              0.3333333333333333,
              "#9c179e"
             ],
             [
              0.4444444444444444,
              "#bd3786"
             ],
             [
              0.5555555555555556,
              "#d8576b"
             ],
             [
              0.6666666666666666,
              "#ed7953"
             ],
             [
              0.7777777777777778,
              "#fb9f3a"
             ],
             [
              0.8888888888888888,
              "#fdca26"
             ],
             [
              1,
              "#f0f921"
             ]
            ],
            "type": "histogram2dcontour"
           }
          ],
          "mesh3d": [
           {
            "colorbar": {
             "outlinewidth": 0,
             "ticks": ""
            },
            "type": "mesh3d"
           }
          ],
          "parcoords": [
           {
            "line": {
             "colorbar": {
              "outlinewidth": 0,
              "ticks": ""
             }
            },
            "type": "parcoords"
           }
          ],
          "pie": [
           {
            "automargin": true,
            "type": "pie"
           }
          ],
          "scatter": [
           {
            "fillpattern": {
             "fillmode": "overlay",
             "size": 10,
             "solidity": 0.2
            },
            "type": "scatter"
           }
          ],
          "scatter3d": [
           {
            "line": {
             "colorbar": {
              "outlinewidth": 0,
              "ticks": ""
             }
            },
            "marker": {
             "colorbar": {
              "outlinewidth": 0,
              "ticks": ""
             }
            },
            "type": "scatter3d"
           }
          ],
          "scattercarpet": [
           {
            "marker": {
             "colorbar": {
              "outlinewidth": 0,
              "ticks": ""
             }
            },
            "type": "scattercarpet"
           }
          ],
          "scattergeo": [
           {
            "marker": {
             "colorbar": {
              "outlinewidth": 0,
              "ticks": ""
             }
            },
            "type": "scattergeo"
           }
          ],
          "scattergl": [
           {
            "marker": {
             "colorbar": {
              "outlinewidth": 0,
              "ticks": ""
             }
            },
            "type": "scattergl"
           }
          ],
          "scattermapbox": [
           {
            "marker": {
             "colorbar": {
              "outlinewidth": 0,
              "ticks": ""
             }
            },
            "type": "scattermapbox"
           }
          ],
          "scatterpolar": [
           {
            "marker": {
             "colorbar": {
              "outlinewidth": 0,
              "ticks": ""
             }
            },
            "type": "scatterpolar"
           }
          ],
          "scatterpolargl": [
           {
            "marker": {
             "colorbar": {
              "outlinewidth": 0,
              "ticks": ""
             }
            },
            "type": "scatterpolargl"
           }
          ],
          "scatterternary": [
           {
            "marker": {
             "colorbar": {
              "outlinewidth": 0,
              "ticks": ""
             }
            },
            "type": "scatterternary"
           }
          ],
          "surface": [
           {
            "colorbar": {
             "outlinewidth": 0,
             "ticks": ""
            },
            "colorscale": [
             [
              0,
              "#0d0887"
             ],
             [
              0.1111111111111111,
              "#46039f"
             ],
             [
              0.2222222222222222,
              "#7201a8"
             ],
             [
              0.3333333333333333,
              "#9c179e"
             ],
             [
              0.4444444444444444,
              "#bd3786"
             ],
             [
              0.5555555555555556,
              "#d8576b"
             ],
             [
              0.6666666666666666,
              "#ed7953"
             ],
             [
              0.7777777777777778,
              "#fb9f3a"
             ],
             [
              0.8888888888888888,
              "#fdca26"
             ],
             [
              1,
              "#f0f921"
             ]
            ],
            "type": "surface"
           }
          ],
          "table": [
           {
            "cells": {
             "fill": {
              "color": "#EBF0F8"
             },
             "line": {
              "color": "white"
             }
            },
            "header": {
             "fill": {
              "color": "#C8D4E3"
             },
             "line": {
              "color": "white"
             }
            },
            "type": "table"
           }
          ]
         },
         "layout": {
          "annotationdefaults": {
           "arrowcolor": "#2a3f5f",
           "arrowhead": 0,
           "arrowwidth": 1
          },
          "autotypenumbers": "strict",
          "coloraxis": {
           "colorbar": {
            "outlinewidth": 0,
            "ticks": ""
           }
          },
          "colorscale": {
           "diverging": [
            [
             0,
             "#8e0152"
            ],
            [
             0.1,
             "#c51b7d"
            ],
            [
             0.2,
             "#de77ae"
            ],
            [
             0.3,
             "#f1b6da"
            ],
            [
             0.4,
             "#fde0ef"
            ],
            [
             0.5,
             "#f7f7f7"
            ],
            [
             0.6,
             "#e6f5d0"
            ],
            [
             0.7,
             "#b8e186"
            ],
            [
             0.8,
             "#7fbc41"
            ],
            [
             0.9,
             "#4d9221"
            ],
            [
             1,
             "#276419"
            ]
           ],
           "sequential": [
            [
             0,
             "#0d0887"
            ],
            [
             0.1111111111111111,
             "#46039f"
            ],
            [
             0.2222222222222222,
             "#7201a8"
            ],
            [
             0.3333333333333333,
             "#9c179e"
            ],
            [
             0.4444444444444444,
             "#bd3786"
            ],
            [
             0.5555555555555556,
             "#d8576b"
            ],
            [
             0.6666666666666666,
             "#ed7953"
            ],
            [
             0.7777777777777778,
             "#fb9f3a"
            ],
            [
             0.8888888888888888,
             "#fdca26"
            ],
            [
             1,
             "#f0f921"
            ]
           ],
           "sequentialminus": [
            [
             0,
             "#0d0887"
            ],
            [
             0.1111111111111111,
             "#46039f"
            ],
            [
             0.2222222222222222,
             "#7201a8"
            ],
            [
             0.3333333333333333,
             "#9c179e"
            ],
            [
             0.4444444444444444,
             "#bd3786"
            ],
            [
             0.5555555555555556,
             "#d8576b"
            ],
            [
             0.6666666666666666,
             "#ed7953"
            ],
            [
             0.7777777777777778,
             "#fb9f3a"
            ],
            [
             0.8888888888888888,
             "#fdca26"
            ],
            [
             1,
             "#f0f921"
            ]
           ]
          },
          "colorway": [
           "#636efa",
           "#EF553B",
           "#00cc96",
           "#ab63fa",
           "#FFA15A",
           "#19d3f3",
           "#FF6692",
           "#B6E880",
           "#FF97FF",
           "#FECB52"
          ],
          "font": {
           "color": "#2a3f5f"
          },
          "geo": {
           "bgcolor": "white",
           "lakecolor": "white",
           "landcolor": "#E5ECF6",
           "showlakes": true,
           "showland": true,
           "subunitcolor": "white"
          },
          "hoverlabel": {
           "align": "left"
          },
          "hovermode": "closest",
          "mapbox": {
           "style": "light"
          },
          "paper_bgcolor": "white",
          "plot_bgcolor": "#E5ECF6",
          "polar": {
           "angularaxis": {
            "gridcolor": "white",
            "linecolor": "white",
            "ticks": ""
           },
           "bgcolor": "#E5ECF6",
           "radialaxis": {
            "gridcolor": "white",
            "linecolor": "white",
            "ticks": ""
           }
          },
          "scene": {
           "xaxis": {
            "backgroundcolor": "#E5ECF6",
            "gridcolor": "white",
            "gridwidth": 2,
            "linecolor": "white",
            "showbackground": true,
            "ticks": "",
            "zerolinecolor": "white"
           },
           "yaxis": {
            "backgroundcolor": "#E5ECF6",
            "gridcolor": "white",
            "gridwidth": 2,
            "linecolor": "white",
            "showbackground": true,
            "ticks": "",
            "zerolinecolor": "white"
           },
           "zaxis": {
            "backgroundcolor": "#E5ECF6",
            "gridcolor": "white",
            "gridwidth": 2,
            "linecolor": "white",
            "showbackground": true,
            "ticks": "",
            "zerolinecolor": "white"
           }
          },
          "shapedefaults": {
           "line": {
            "color": "#2a3f5f"
           }
          },
          "ternary": {
           "aaxis": {
            "gridcolor": "white",
            "linecolor": "white",
            "ticks": ""
           },
           "baxis": {
            "gridcolor": "white",
            "linecolor": "white",
            "ticks": ""
           },
           "bgcolor": "#E5ECF6",
           "caxis": {
            "gridcolor": "white",
            "linecolor": "white",
            "ticks": ""
           }
          },
          "title": {
           "x": 0.05
          },
          "xaxis": {
           "automargin": true,
           "gridcolor": "white",
           "linecolor": "white",
           "ticks": "",
           "title": {
            "standoff": 15
           },
           "zerolinecolor": "white",
           "zerolinewidth": 2
          },
          "yaxis": {
           "automargin": true,
           "gridcolor": "white",
           "linecolor": "white",
           "ticks": "",
           "title": {
            "standoff": 15
           },
           "zerolinecolor": "white",
           "zerolinewidth": 2
          }
         }
        },
        "xaxis": {
         "categoryarray": [
          "2ng",
          "22ng"
         ],
         "categoryorder": "array",
         "linecolor": "black",
         "linewidth": 1,
         "showline": true,
         "title": {
          "text": "Sample Amount"
         }
        },
        "yaxis": {
         "linecolor": "black",
         "linewidth": 1,
         "showline": true,
         "title": {
          "text": "Protein Identifications"
         }
        }
       }
      }
     },
     "metadata": {},
     "output_type": "display_data"
    }
   ],
   "source": [
    "#ID plot(protein and peptides)\n",
    "plot_options={\n",
    "            \"mean label\": \"True\",\n",
    "            \"error bar\": \"ci95\", #None, stdev, or ci95\n",
    "            \"X Title\": \"Conditions\",\n",
    "            \"Y Title\": \"Protein Identifications\",\n",
    "            \"color\": [\"#3E6990\", \"#7aa8e6\",\"#AABD8C\", \"#E9E3B4\", \"#C6878F\", \"#fac8d3\",\"#F39B6D\",  \"pink\",\n",
    "                  \"orange\", \"brown\", \"pink\", \"gray\", \"olive\", \"cyan\", \"black\",\"red\",\n",
    "                  \"yellow\",\"green\",\"blue\",\"indigo\",\"violet\"],\n",
    "            \"width\": 700,\n",
    "            \"height\": 450,\n",
    "            \"font\": dict(size=32, family=\"Arial black\"),\n",
    "            \"ID mode\": \"grouped_stacked\",#grouped, total, MS2, grouped_stacked, stacked\n",
    "            \"Group By X\": \"Sample Amount\", #ID_Mode does MS2 vs MBR\n",
    "            \"Group By Color\": \"Isolation Window\",#ID_Mode does MS2 vs MBR\n",
    "            \"Group By Stack\": \"ID_Mode\",#ID_Mode does MS2 vs MBR\n",
    "        }\n",
    "plot_options[\"plot_type\"] = \"1\" # 1 is protein, 2 is peptide\n",
    "figure ,_ ,_ =plotter.ID_plots(data_obj, plot_options, saved_settings)\n",
    "figure.write_image(\"asdf.png\", scale=10, width = 1000, height=1000)\n",
    "figure.show()"
   ]
  },
  {
   "cell_type": "code",
   "execution_count": 27,
   "id": "6ac3cdc7",
   "metadata": {},
   "outputs": [
    {
     "ename": "KeyError",
     "evalue": "'Order@Gradient Length'",
     "output_type": "error",
     "traceback": [
      "\u001b[1;31m---------------------------------------------------------------------------\u001b[0m",
      "\u001b[1;31mKeyError\u001b[0m                                  Traceback (most recent call last)",
      "Cell \u001b[1;32mIn[27], line 20\u001b[0m\n\u001b[0;32m      2\u001b[0m plot_options\u001b[38;5;241m=\u001b[39m{    \n\u001b[0;32m      3\u001b[0m         \u001b[38;5;124m\"\u001b[39m\u001b[38;5;124mmedian label\u001b[39m\u001b[38;5;124m\"\u001b[39m: \u001b[38;5;124m\"\u001b[39m\u001b[38;5;124mTrue\u001b[39m\u001b[38;5;124m\"\u001b[39m, \u001b[38;5;66;03m#only works for total and MS2, can be found in CV_summary if you set WRITE_OUTPUT = True\u001b[39;00m\n\u001b[0;32m      4\u001b[0m         \u001b[38;5;124m\"\u001b[39m\u001b[38;5;124mbox\u001b[39m\u001b[38;5;124m\"\u001b[39m: \u001b[38;5;28;01mFalse\u001b[39;00m,\n\u001b[1;32m   (...)\u001b[0m\n\u001b[0;32m     17\u001b[0m         \u001b[38;5;124m\"\u001b[39m\u001b[38;5;124mGroup By Stack\u001b[39m\u001b[38;5;124m\"\u001b[39m: \u001b[38;5;124m\"\u001b[39m\u001b[38;5;124mID_Mode\u001b[39m\u001b[38;5;124m\"\u001b[39m \u001b[38;5;66;03m#ID_Mode does MS2 vs MBR\u001b[39;00m\n\u001b[0;32m     18\u001b[0m     }\n\u001b[0;32m     19\u001b[0m plot_options[\u001b[38;5;124m\"\u001b[39m\u001b[38;5;124mplot_type\u001b[39m\u001b[38;5;124m\"\u001b[39m] \u001b[38;5;241m=\u001b[39m \u001b[38;5;241m1\u001b[39m \u001b[38;5;66;03m# 1 is protein, 2 is peptide\u001b[39;00m\n\u001b[1;32m---> 20\u001b[0m figure, _, _ \u001b[38;5;241m=\u001b[39m\u001b[43mplotter\u001b[49m\u001b[38;5;241;43m.\u001b[39;49m\u001b[43mCV_plots\u001b[49m\u001b[43m(\u001b[49m\u001b[43mdata_obj\u001b[49m\u001b[43m,\u001b[49m\u001b[43m \u001b[49m\u001b[43mplot_options\u001b[49m\u001b[43m,\u001b[49m\u001b[43m \u001b[49m\u001b[43msaved_settings\u001b[49m\u001b[43m)\u001b[49m\n\u001b[0;32m     21\u001b[0m figure\u001b[38;5;241m.\u001b[39mshow()\n",
      "File \u001b[1;32mf:\\Kei_PhD_Data\\Greedy\\SCP_TMT\\SCP_plotter.py:917\u001b[0m, in \u001b[0;36mSCP_plotter.CV_plots\u001b[1;34m(self, data_object, plot_options, saved_settings, username)\u001b[0m\n\u001b[0;32m    915\u001b[0m     x_axis_order \u001b[38;5;241m=\u001b[39m saved_settings[\u001b[38;5;124m\"\u001b[39m\u001b[38;5;124mOrder@Conditions\u001b[39m\u001b[38;5;124m\"\u001b[39m]\n\u001b[0;32m    916\u001b[0m \u001b[38;5;28;01melse\u001b[39;00m:\n\u001b[1;32m--> 917\u001b[0m     x_axis_order \u001b[38;5;241m=\u001b[39m \u001b[43msaved_settings\u001b[49m\u001b[43m[\u001b[49m\u001b[38;5;124;43m\"\u001b[39;49m\u001b[38;5;124;43mOrder@\u001b[39;49m\u001b[38;5;124;43m\"\u001b[39;49m\u001b[38;5;241;43m+\u001b[39;49m\u001b[43mplot_options\u001b[49m\u001b[43m[\u001b[49m\u001b[38;5;124;43m\"\u001b[39;49m\u001b[38;5;124;43mGroup By X\u001b[39;49m\u001b[38;5;124;43m\"\u001b[39;49m\u001b[43m]\u001b[49m\u001b[43m]\u001b[49m\n\u001b[0;32m    918\u001b[0m plot_options[\u001b[38;5;124m\"\u001b[39m\u001b[38;5;124mx_axis_order\u001b[39m\u001b[38;5;124m\"\u001b[39m] \u001b[38;5;241m=\u001b[39m x_axis_order\n\u001b[0;32m    919\u001b[0m \u001b[38;5;28;01mif\u001b[39;00m plot_options[\u001b[38;5;124m\"\u001b[39m\u001b[38;5;124mCV mode\u001b[39m\u001b[38;5;124m\"\u001b[39m] \u001b[38;5;241m==\u001b[39m \u001b[38;5;124m\"\u001b[39m\u001b[38;5;124mgrouped\u001b[39m\u001b[38;5;124m\"\u001b[39m \u001b[38;5;129;01mor\u001b[39;00m plot_options[\u001b[38;5;124m\"\u001b[39m\u001b[38;5;124mCV mode\u001b[39m\u001b[38;5;124m\"\u001b[39m] \u001b[38;5;241m==\u001b[39m \u001b[38;5;124m\"\u001b[39m\u001b[38;5;124mgrouped_stacked\u001b[39m\u001b[38;5;124m\"\u001b[39m \u001b[38;5;129;01mand\u001b[39;00m plot_options[\u001b[38;5;124m\"\u001b[39m\u001b[38;5;124mGroup By Color\u001b[39m\u001b[38;5;124m\"\u001b[39m] \u001b[38;5;241m!=\u001b[39m \u001b[38;5;124m\"\u001b[39m\u001b[38;5;124mID_Mode\u001b[39m\u001b[38;5;124m\"\u001b[39m:\n",
      "\u001b[1;31mKeyError\u001b[0m: 'Order@Gradient Length'"
     ]
    }
   ],
   "source": [
    "# CV violin plot\n",
    "plot_options={    \n",
    "        \"median label\": \"True\", #only works for total and MS2, can be found in CV_summary if you set WRITE_OUTPUT = True\n",
    "        \"box\": False,\n",
    "        \"X Title\": \"Conditions (protein)\",\n",
    "        \"Y Title\": \"CV of Abundance (%)\",\n",
    "        \"color\": [\"#3E6990\", \"#7aa8e6\",\"#C6878F\", \"#fac8d3\",\"#AABD8C\", \"#E9E3B4\",  \"#F39B6D\", \"#C6878F\", \"pink\",\n",
    "                  \"orange\", \"brown\", \"pink\", \"gray\", \"olive\", \"cyan\", \"black\",\"red\",\n",
    "                  \"yellow\",\"green\",\"blue\",\"indigo\",\"violet\"],\n",
    "        \"width\": 700,\n",
    "        \"height\": 450,\n",
    "        \"font\": dict(size=16, family=\"Arial black\"),\n",
    "        \"ylimits\": [-10, 400],\n",
    "        \"CV mode\": \"grouped_stacked\",#grouped, total, MS2, grouped_stacked, stacked\n",
    "        \"Group By X\": \"Gradient Length\", #ID_Mode does MS2 vs MBR\n",
    "        \"Group By Color\": \"Acquisition Mode\",#ID_Mode does MS2 vs MBR\n",
    "        \"Group By Stack\": \"ID_Mode\" #ID_Mode does MS2 vs MBR\n",
    "    }\n",
    "plot_options[\"plot_type\"] = 1 # 1 is protein, 2 is peptide\n",
    "figure, _, _ =plotter.CV_plots(data_obj, plot_options, saved_settings)\n",
    "figure.show()\n"
   ]
  },
  {
   "cell_type": "code",
   "execution_count": null,
   "id": "ee99842b",
   "metadata": {},
   "outputs": [],
   "source": [
    "# ID Venns plot\n",
    "plot_options={\n",
    "            \"compare groups\": [\"4ng Greedy\",\"13ng Greedy\"],\n",
    "            \"inclusion list\": \"proteins_symbols.csv\",\n",
    "            \"title\": \"Venn Diagram (Protein)\",\n",
    "            \"opacity\": 0.75,\n",
    "            \"color\": [\"#3E6990\", \"#C6878F\", \"#AABD8C\",\"#fac8d3\",\"#7aa8e6\", \"#E9E3B4\",\"#00FF00\", \"#FFFF00\", \"#FF0000\", \"yellow\", \"red\",\n",
    "                      \"green\", \"purple\", \"orange\", \"brown\", \"pink\",\n",
    "                      \"gray\",  \"olive\", \"cyan\", \"blue\",  \"black\", ]\n",
    "        }\n",
    "plot_options[\"plot_type\"] = 1 # 1 is protein, 2 is peptide\n",
    "figure, _, _ =plotter.inclusion_venn_plots(data_obj, plot_options, saved_settings)\n",
    "figure.show()\n",
    "\n"
   ]
  },
  {
   "cell_type": "code",
   "execution_count": null,
   "id": "5e64d89b",
   "metadata": {},
   "outputs": [],
   "source": [
    "# ID Venns plot\n",
    "plot_options={\n",
    "            \"compare groups\": [\"Library\",\"4ng Greedy\",\"13ng Greedy\"],\n",
    "            \"title\": \"Venn Diagram (Protein)\",\n",
    "            \"opacity\": 0.75,\n",
    "            \"color\": [\"#3E6990\", \"#C6878F\", \"#AABD8C\",\"#fac8d3\",\"#7aa8e6\", \"#E9E3B4\",\"#00FF00\", \"#FFFF00\", \"#FF0000\", \"yellow\", \"red\",\n",
    "                      \"green\", \"purple\", \"orange\", \"brown\", \"pink\",\n",
    "                      \"gray\",  \"olive\", \"cyan\", \"blue\",  \"black\", ]\n",
    "        }\n",
    "plot_options[\"plot_type\"] = 1 # 1 is protein, 2 is peptide\n",
    "figure, _, _ =plotter.venns_plots(data_obj, plot_options, saved_settings)\n",
    "figure.show()\n",
    "\n"
   ]
  },
  {
   "cell_type": "code",
   "execution_count": null,
   "id": "a0d72857",
   "metadata": {},
   "outputs": [],
   "source": [
    "# Protein Ranked Abundance plot\n",
    "plot_options={\n",
    "            \"reference_group\": \"Library\",\n",
    "            \"compare groups\": [\"13ng Greedy\", \"4ng Greedy\", \"13ng Standard\"],\n",
    "            \"title\": \"Ranked Abundance\",\n",
    "            \"color\": [\"blue\", \"red\", \"green\", \"black\", \"yellow\", \"purple\",\n",
    "                      \"orange\", \"brown\", \"pink\", \"gray\", \"olive\", \"cyan\"],\n",
    "            \"symbol\": ['circle', 'circle', 'circle'],\n",
    "            \"marker_size\": 8,\n",
    "            \"width\": 700,\n",
    "            \"height\": 450,\n",
    "            \"font\": dict(size=16, family=\"Arial black\"),\n",
    "            \"ylimits\": [],\n",
    "            \"xlimits\": [],\n",
    "            \"X Title\": \"Ranked Abundance\",\n",
    "            \"Y Title\": \"Average Reporter Ion Abundance\",\n",
    "        }\n",
    "figure, _, _ =plotter.Rank_Abundance_Plots(data_obj, plot_options, saved_settings)\n",
    "figure.show()"
   ]
  },
  {
   "cell_type": "code",
   "execution_count": null,
   "id": "f81fdef7",
   "metadata": {},
   "outputs": [],
   "source": [
    "# Protein Abundance Volcano plot\n",
    "plot_options={\n",
    "            \"compare groups\": [\"4ng Greedy\",\"13ng Greedy\"],\n",
    "            \"title\": \"Volcano Plot\",\n",
    "            \"X Title\": \"Log2 Fold Change\",\n",
    "            \"Y Title\": \"-Log10(adjusted p-value)\",\n",
    "            \"up color\": \"red\",\n",
    "            \"down color\": \"blue\",\n",
    "            \"all color\": \"gray\",\n",
    "            \"width\": 700,\n",
    "            \"height\": 450,\n",
    "            \"font\": dict(size=16, family=\"Arial black\"),\n",
    "            \"ylimits\": [],\n",
    "            \"xlimits\": []\n",
    "        }\n",
    "figure, _, _ =plotter.volcano_plots(data_obj, plot_options, saved_settings)\n",
    "figure.show()\n"
   ]
  },
  {
   "cell_type": "code",
   "execution_count": null,
   "id": "a9487aa3",
   "metadata": {},
   "outputs": [],
   "source": [
    "# Protein Abundance PCA plot\n",
    "plot_options={\n",
    "            \"compare groups\": [\"4ng Greedy\",\"13ng Greedy\",\"Library\", \"13ng Standard\"],\n",
    "            \"title\": \"PCA Analysis\",\n",
    "            \"color\": [\"blue\", \"red\", \"green\", \"black\", \"yellow\", \"purple\",\n",
    "                      \"orange\", \"brown\", \"pink\", \"gray\", \"olive\", \"cyan\"],\n",
    "            \"symbol\": ['circle', 'circle', 'circle'],\n",
    "            \"marker_size\": 8,\n",
    "            \"width\": 700,\n",
    "            \"height\": 450,\n",
    "            \"font\": dict(size=16, family=\"Arial black\"),\n",
    "            \"ylimits\": [],\n",
    "            \"xlimits\": []\n",
    "        }\n",
    "figure, _, _ =plotter.PCA_plots(data_obj, plot_options, saved_settings)\n",
    "figure.show()\n"
   ]
  },
  {
   "cell_type": "code",
   "execution_count": null,
   "id": "8542a993",
   "metadata": {},
   "outputs": [],
   "source": [
    "# Protein Abundance Heat Map\n",
    "plot_options={\n",
    "            \"compare groups\":  [\"4ng Greedy\",\"13ng Greedy\",\"Library\"],\n",
    "            \"log2_transform\": False,\n",
    "            \"significant_only\": True,\n",
    "            \"alpha\": 0.05, \n",
    "            \"min_fold_change\": 2\n",
    "        }\n",
    "figure, _, _ =plotter.heatmap_plots(data_obj, plot_options, saved_settings)\n",
    "figure.show()"
   ]
  }
 ],
 "metadata": {
  "kernelspec": {
   "display_name": ".venv",
   "language": "python",
   "name": "python3"
  },
  "language_info": {
   "codemirror_mode": {
    "name": "ipython",
    "version": 3
   },
   "file_extension": ".py",
   "mimetype": "text/x-python",
   "name": "python",
   "nbconvert_exporter": "python",
   "pygments_lexer": "ipython3",
   "version": "3.11.9"
  },
  "vscode": {
   "interpreter": {
    "hash": "a889046d7ab3fc532e7617178168e652077a93fddee421a252a8a2c494ffb595"
   }
  }
 },
 "nbformat": 4,
 "nbformat_minor": 5
}
